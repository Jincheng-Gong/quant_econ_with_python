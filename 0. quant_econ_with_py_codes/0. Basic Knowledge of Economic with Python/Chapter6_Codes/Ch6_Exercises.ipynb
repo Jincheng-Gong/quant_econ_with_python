{
 "metadata": {
  "language_info": {
   "codemirror_mode": {
    "name": "ipython",
    "version": 3
   },
   "file_extension": ".py",
   "mimetype": "text/x-python",
   "name": "python",
   "nbconvert_exporter": "python",
   "pygments_lexer": "ipython3",
   "version": "3.9.1-final"
  },
  "orig_nbformat": 2,
  "kernelspec": {
   "name": "python3",
   "display_name": "Python 3",
   "language": "python"
  }
 },
 "nbformat": 4,
 "nbformat_minor": 2,
 "cells": [
  {
   "source": [
    "# Chapter 6 Exercises"
   ],
   "cell_type": "markdown",
   "metadata": {}
  },
  {
   "source": [
    "## Exercise 1\n",
    "The empirical cumulative diatribution function (ecdf) corresponding to a sample {X_i}^{i from 1 to n} is defined as list.\n",
    "The Glivenko - Cantelli Theorem states thats, provided that the sample is IID, the ecdf F_n converges to the true distribution function F."
   ],
   "cell_type": "markdown",
   "metadata": {}
  },
  {
   "cell_type": "code",
   "execution_count": 19,
   "metadata": {},
   "outputs": [
    {
     "output_type": "stream",
     "name": "stdout",
     "text": [
      "0.5\n0.5007\n"
     ]
    }
   ],
   "source": [
    "class ECDF:\n",
    "\n",
    "    def __init__(self, observations):\n",
    "        self.observations = observations\n",
    "\n",
    "    def __call__(self, x):\n",
    "        counter = 0.0\n",
    "        for obs in self.observations:\n",
    "            if obs <= x:\n",
    "                counter +=1\n",
    "        return counter / len(self.observations)\n",
    "\n",
    "# Test\n",
    "from random import uniform\n",
    "\n",
    "samples = [uniform(0, 1) for i in range(10)]\n",
    "F = ECDF(samples)\n",
    "\n",
    "print(F(0.5))\n",
    "\n",
    "F.observations = [uniform(0, 1) for i in range(100000)]\n",
    "\n",
    "print(F(0.5))"
   ]
  },
  {
   "source": [
    "## Exercise2\n",
    "Polynomial function.\n",
    "methods:\n",
    "(i). Evaluate the polynomial, returning p(x) for any x.\n",
    "(ii). Differentiate the polynomial, replacing the original coefficients with those of its derivative p'."
   ],
   "cell_type": "markdown",
   "metadata": {}
  },
  {
   "cell_type": "code",
   "execution_count": 20,
   "metadata": {},
   "outputs": [],
   "source": [
    "class Polynomial:\n",
    "    def __init__(self, coefficients):\n",
    "        self.coefficients = coefficients\n",
    "\n",
    "    def __call__(self, x):\n",
    "        y = 0\n",
    "        for i, a in enumerate(self.coefficients):\n",
    "            y += a * x**i\n",
    "        return y\n",
    "    \n",
    "    def differentiate(self):\n",
    "        new_coefficients = []\n",
    "        for i, a in enumerate(self.coefficients):\n",
    "            new_coefficients.append(i * a)\n",
    "        del new_coefficients[0]\n",
    "        self.coefficients = new_coefficients\n",
    "        return new_coefficients"
   ]
  },
  {
   "cell_type": "code",
   "execution_count": 23,
   "metadata": {},
   "outputs": [],
   "source": [
    "a = Polynomial([1,2,3])"
   ]
  },
  {
   "cell_type": "code",
   "execution_count": 24,
   "metadata": {},
   "outputs": [
    {
     "output_type": "execute_result",
     "data": {
      "text/plain": [
       "17"
      ]
     },
     "metadata": {},
     "execution_count": 24
    }
   ],
   "source": [
    "a(2) # 1*2^0+2*2^1+3*2^2"
   ]
  },
  {
   "cell_type": "code",
   "execution_count": 25,
   "metadata": {},
   "outputs": [
    {
     "output_type": "stream",
     "name": "stdout",
     "text": [
      "[2, 6]\n"
     ]
    }
   ],
   "source": [
    "print(a.differentiate()) # 求导后，系数变为2和6"
   ]
  }
 ]
}