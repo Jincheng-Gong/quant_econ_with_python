{
 "metadata": {
  "language_info": {
   "codemirror_mode": {
    "name": "ipython",
    "version": 3
   },
   "file_extension": ".py",
   "mimetype": "text/x-python",
   "name": "python",
   "nbconvert_exporter": "python",
   "pygments_lexer": "ipython3",
   "version": "3.9.1-final"
  },
  "orig_nbformat": 2,
  "kernelspec": {
   "name": "python3",
   "display_name": "Python 3",
   "language": "python"
  }
 },
 "nbformat": 4,
 "nbformat_minor": 2,
 "cells": [
  {
   "source": [
    "# Chapter 4 Exercises"
   ],
   "cell_type": "markdown",
   "metadata": {}
  },
  {
   "source": [
    "## Exercise 1"
   ],
   "cell_type": "markdown",
   "metadata": {}
  },
  {
   "cell_type": "code",
   "execution_count": 4,
   "metadata": {},
   "outputs": [
    {
     "output_type": "stream",
     "name": "stdout",
     "text": [
      "32\n"
     ]
    }
   ],
   "source": [
    "# Part I\n",
    "x_vals = (1,2,3)\n",
    "y_vals = (4,5,6)\n",
    "cul = 0\n",
    "for x, y in zip(x_vals,y_vals):\n",
    "    cul = cul + x * y\n",
    "print(cul)"
   ]
  },
  {
   "cell_type": "code",
   "execution_count": 5,
   "metadata": {},
   "outputs": [
    {
     "output_type": "execute_result",
     "data": {
      "text/plain": [
       "50"
      ]
     },
     "metadata": {},
     "execution_count": 5
    }
   ],
   "source": [
    "# Part II\n",
    "len([x for x in range(100) if x % 2 == 0])"
   ]
  },
  {
   "cell_type": "code",
   "execution_count": 6,
   "metadata": {},
   "outputs": [
    {
     "output_type": "execute_result",
     "data": {
      "text/plain": [
       "2"
      ]
     },
     "metadata": {},
     "execution_count": 6
    }
   ],
   "source": [
    "# Part III\n",
    "pairs = ((2,5),(4,2),(9,8),(12,10))\n",
    "sum([x % 2 == 0 and y % 2 == 0 for x, y in pairs])"
   ]
  },
  {
   "source": [
    "## Exercise 2"
   ],
   "cell_type": "markdown",
   "metadata": {}
  },
  {
   "cell_type": "code",
   "execution_count": 9,
   "metadata": {},
   "outputs": [
    {
     "output_type": "stream",
     "name": "stdout",
     "text": [
      "1\n5\n17\n"
     ]
    },
    {
     "output_type": "execute_result",
     "data": {
      "text/plain": [
       "17"
      ]
     },
     "metadata": {},
     "execution_count": 9
    }
   ],
   "source": [
    "def p(x, coeff):\n",
    "    value = 0\n",
    "    i = 0\n",
    "    for a in coeff:\n",
    "        point = a * (x**i)\n",
    "        i = i + 1\n",
    "        value = value + point\n",
    "    return value\n",
    "p(2,[1,2,3])"
   ]
  },
  {
   "cell_type": "code",
   "execution_count": 10,
   "metadata": {},
   "outputs": [
    {
     "output_type": "execute_result",
     "data": {
      "text/plain": [
       "17"
      ]
     },
     "metadata": {},
     "execution_count": 10
    }
   ],
   "source": [
    "# enumerate()\n",
    "def p(x, coeff):\n",
    "    return sum(a * x ** i for i, a in enumerate(coeff))\n",
    "p(2,[1,2,3])"
   ]
  },
  {
   "cell_type": "code",
   "execution_count": 15,
   "metadata": {},
   "outputs": [
    {
     "output_type": "stream",
     "name": "stdout",
     "text": [
      "0 1\n1 2\n2 3\n"
     ]
    }
   ],
   "source": [
    "c = [1,2,3]\n",
    "for i, a in enumerate(c):\n",
    "    print(i,a)"
   ]
  },
  {
   "source": [
    "## Exercise 3"
   ],
   "cell_type": "markdown",
   "metadata": {}
  },
  {
   "cell_type": "code",
   "execution_count": 27,
   "metadata": {},
   "outputs": [
    {
     "output_type": "execute_result",
     "data": {
      "text/plain": [
       "4"
      ]
     },
     "metadata": {},
     "execution_count": 27
    }
   ],
   "source": [
    "def function3(str_arg):\n",
    "    number = 0\n",
    "    bignumber = str_arg.upper()\n",
    "    for i, z in zip(str_arg, bignumber):\n",
    "        if i == z:\n",
    "            number = number + 1\n",
    "    return number\n",
    "\n",
    "function3('AbCbCC')"
   ]
  },
  {
   "source": [
    "## Exercise 4"
   ],
   "cell_type": "markdown",
   "metadata": {}
  },
  {
   "cell_type": "code",
   "execution_count": 34,
   "metadata": {},
   "outputs": [
    {
     "output_type": "execute_result",
     "data": {
      "text/plain": [
       "True"
      ]
     },
     "metadata": {},
     "execution_count": 34
    }
   ],
   "source": [
    "def function4(seq_a, seq_b):\n",
    "    for i in seq_a:\n",
    "        if not(i in seq_b):\n",
    "            return False\n",
    "        else:\n",
    "            return True\n",
    "function4('1','123')"
   ]
  },
  {
   "source": [
    "## Exercise 5"
   ],
   "cell_type": "markdown",
   "metadata": {}
  },
  {
   "cell_type": "code",
   "execution_count": 1,
   "metadata": {},
   "outputs": [],
   "source": [
    "def linapprox(f, a, b, n, x):\n",
    "    length_of_interval = b - a\n",
    "    num_subintervals = n - 1\n",
    "    step = length_of_interval / num_subintervals\n",
    "    point = a\n",
    "    while point <= x:\n",
    "        point += step\n",
    "    u, v = point - step, point\n",
    "\n",
    "    return f(u) + (x - u) * (f(v) - f(u)) / (v - u)"
   ]
  }
 ]
}